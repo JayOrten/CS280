{
  "nbformat": 4,
  "nbformat_minor": 0,
  "metadata": {
    "colab": {
      "provenance": [],
      "collapsed_sections": [
        "qf46SalpGx8E",
        "BoSdFRFMmZRy"
      ]
    },
    "kernelspec": {
      "name": "python3",
      "display_name": "Python 3"
    },
    "language_info": {
      "name": "python"
    }
  },
  "cells": [
    {
      "cell_type": "markdown",
      "source": [
        "# BYU CS 280 Tool Lab 2: Machine Learning Tools"
      ],
      "metadata": {
        "id": "_slaQdUGCB0t"
      }
    },
    {
      "cell_type": "code",
      "source": [
        "# Dependencies for the lab\n",
        "import sklearn as sk\n",
        "from sklearn.metrics import accuracy_score\n",
        "from sklearn.neighbors import KNeighborsClassifier\n",
        "from sklearn.neural_network import MLPClassifier\n",
        "from sklearn.isotonic import IsotonicRegression\n",
        "from sklearn.linear_model import LinearRegression\n",
        "from sklearn.linear_model import ARDRegression\n",
        "from sklearn import svm\n",
        "import xgboost as xgb\n",
        "import pandas as pd"
      ],
      "metadata": {
        "id": "Gaema31vjP8f"
      },
      "execution_count": 9,
      "outputs": []
    },
    {
      "cell_type": "markdown",
      "source": [
        "## Introduction:\n",
        "\n",
        "### Scikit-learn\n",
        "Scikit-learn is a very popular library for machine learning in Python. You can think of it as an add-on to scipy/numpy with a very large number of implementations of common machine learning algorithms.\n",
        "\n",
        "In general, the scikit-learn API can help you accomplish the following tasks:\n",
        "* Preprocessing\n",
        "* Dimensionality Reduction\n",
        "* Clustering\n",
        "* Classification\n",
        "* Regression\n",
        "\n",
        "### XGBoost\n",
        "XGBoost stands for Extreme Gradient Boosting, which is a scalable, distributed gradient-boosted decision tree machine learning library. It provides parallel tree boosting and is the leading machine learning library for regression, classification, and ranking problems. It implements machine learning algorithms under the Gradient Boosting framework. It also provides parallel training capabilities so you can train your algorithms using multiple processors and gpus.\n",
        " "
      ],
      "metadata": {
        "id": "ct7fnkcnCL8O"
      }
    },
    {
      "cell_type": "markdown",
      "source": [
        "# Question 1: Preprocessing\n",
        "Very rarely will you be given perfect data, and this lab is no exception to the rule. In this section you will preprocess and prepare the datasets for testing various algorithms."
      ],
      "metadata": {
        "id": "qf46SalpGx8E"
      }
    },
    {
      "cell_type": "markdown",
      "source": [
        "You will need to implement a train/test split function which will take in a percent number, and then returns four different values. The X_Train, the X_Test, the Y_Train, and the Y_Test. Where the test set is x% of the original data set, and the train set is 1-x%. So for example, if the dataset had 1000 individual data points, and we split it at 20%, the train set would have 800 data points, and the test set would have 200 data points."
      ],
      "metadata": {
        "id": "LFEf3q_MDWof"
      }
    },
    {
      "cell_type": "code",
      "source": [
        "def train_test_split(percent, X, y):\n",
        "  x_train = \n",
        "  x_test = \n",
        "  y_train = \n",
        "  y_test = \n",
        "  return ((x_train, x_test), (y_train, y_test))"
      ],
      "metadata": {
        "id": "7FT2XuQCDcPE"
      },
      "execution_count": null,
      "outputs": []
    },
    {
      "cell_type": "markdown",
      "source": [
        "We will be using two different datasets in this lab, because we will be training both classifiers and regression algorithms. You'll be able to download them by running the following cell."
      ],
      "metadata": {
        "id": "tgFiIwBvIlAk"
      }
    },
    {
      "cell_type": "code",
      "source": [
        "!wget https://raw.githubusercontent.com/michael-holland-dev/CS280/main/tool_labs/tool_lab_2/titanic_dataset.csv\n",
        "!wget https://raw.githubusercontent.com/michael-holland-dev/CS280/main/tool_labs/tool_lab_2/videogamesales_dataset.csv"
      ],
      "metadata": {
        "id": "p_plc-evMKv_"
      },
      "execution_count": null,
      "outputs": []
    },
    {
      "cell_type": "code",
      "source": [
        "titanic_df = pd.read_csv(\"titanic_dataset.csv\")\n",
        "video_game_df = pd.read_csv(\"videogamesales_dataset.csv\")"
      ],
      "metadata": {
        "id": "AMu97gb0OVBZ"
      },
      "execution_count": 4,
      "outputs": []
    },
    {
      "cell_type": "markdown",
      "source": [
        "For the video game dataframe, there are quite a few categorical variables, you should use the sklearn function for [one hot encoding](https://scikit-learn.org/stable/modules/generated/sklearn.preprocessing.OneHotEncoder.html). This will allow you represent the catagories in a numerical fashion. This will allow the regression algorithm to classify the data easier than it would with raw text"
      ],
      "metadata": {
        "id": "XWD7VgCuk17u"
      }
    },
    {
      "cell_type": "code",
      "source": [],
      "metadata": {
        "id": "qgT3oGT2ly-Z"
      },
      "execution_count": null,
      "outputs": []
    },
    {
      "cell_type": "markdown",
      "source": [
        "Using your function above, split the two datasets with a 75/25 split. (75% train, 25% test) "
      ],
      "metadata": {
        "id": "KVTy-VucQ9dP"
      }
    },
    {
      "cell_type": "code",
      "source": [],
      "metadata": {
        "id": "ljiwQgWuQ8jy"
      },
      "execution_count": null,
      "outputs": []
    },
    {
      "cell_type": "markdown",
      "source": [
        "# Question 2: Classification\n",
        "XGBoost and Scikit Learn both have classification algorithms, in this section of the lab, you will train these algorithms using the titanic dataset and attempt to classify whether or not a given person survives based on their stats. You will use both the XGBoost classifiers as well as set of various SKLearn Classifiers.\n",
        "\n",
        "You can read the documentation for integrating xgboost with sklearn [here](https://xgboost.readthedocs.io/en/stable/python/examples/sklearn_parallel.html#sphx-glr-python-examples-sklearn-parallel-py)"
      ],
      "metadata": {
        "id": "BoSdFRFMmZRy"
      }
    },
    {
      "cell_type": "code",
      "source": [
        "#Initialize the XGBClassifier\n",
        "xgboost_classifier = xgb.XGBClassifier()\n",
        "\n",
        "#Fit the data using the XGBClassifier.fit(X,y) function\n",
        "\n",
        "#Predict the classification using the XGBClassifier.predict(X_Test) function\n",
        "\n",
        "#Calculate the percent correct by using the accuracy_score function"
      ],
      "metadata": {
        "id": "dO75pKCMnkWR"
      },
      "execution_count": null,
      "outputs": []
    },
    {
      "cell_type": "code",
      "source": [
        "#Initialize the XGBRF classifier\n",
        "xgboost_random_forest_classifier = xgb.XGBRFClassifier()\n",
        "\n",
        "#Fit the data using the same .fit(X,y) function\n",
        "\n",
        "#Predict the classification using the same .predict(X_Test) function \n",
        "\n",
        "#Calculate the percent correct by using the accuracy_score function"
      ],
      "metadata": {
        "id": "_wUCPFwrpa5U"
      },
      "execution_count": null,
      "outputs": []
    },
    {
      "cell_type": "markdown",
      "source": [
        "Support Vector Machine Classification [Documentation](https://scikit-learn.org/stable/modules/svm.html#classification)"
      ],
      "metadata": {
        "id": "GPBuNcgzqjbn"
      }
    },
    {
      "cell_type": "code",
      "source": [
        "#Initialize the SKLearn SVM classifier\n",
        "supportVectorMachine = svm.SVC()\n",
        "\n",
        "#Fit the data using the same .fit(X,y) function\n",
        "\n",
        "#Predict the classification using the same .predict(X_Test) function \n",
        "\n",
        "#Calculate the percent correct by using the accuracy_score function"
      ],
      "metadata": {
        "id": "BP3iBMFZpwAz"
      },
      "execution_count": 10,
      "outputs": []
    },
    {
      "cell_type": "markdown",
      "source": [
        "KNeighbors Classification [Documentation](https://scikit-learn.org/stable/modules/generated/sklearn.neighbors.KNeighborsClassifier.html#sklearn.neighbors.KNeighborsClassifier)\n",
        "* For this algorithm, do some hyperparameter tuning based on documentation above.\n",
        "* We'd recommend varying the number of neighbors, and see if that increases the performance of this algorithm"
      ],
      "metadata": {
        "id": "5Z_MS-pFq3f8"
      }
    },
    {
      "cell_type": "code",
      "source": [
        "#Initialize the SKLearn KNeighbor's classifier\n",
        "n = #Instantiate the number of neighbors\n",
        "kneighbors = KNeighborsClassifier(n)\n",
        "\n",
        "#Fit the data using the same .fit(X,y) function\n",
        "\n",
        "#Predict the classification using the same .predict(X_Test) function \n",
        "\n",
        "#Calculate the percent correct by using the accuracy_score function"
      ],
      "metadata": {
        "id": "6HsnstWPq-NA"
      },
      "execution_count": null,
      "outputs": []
    },
    {
      "cell_type": "markdown",
      "source": [
        "Multi Layer Perceptron Classifier [Documentation](https://scikit-learn.org/stable/modules/neural_networks_supervised.html#multi-layer-perceptron)\n",
        "* For this algorithm, do some hyperparameter tuning based on documentation above.\n",
        "* Vary the hiddenlayers, randomstate, and the alpha to see if that increases the perfomance of this algorithm."
      ],
      "metadata": {
        "id": "eFg6WShBrn7h"
      }
    },
    {
      "cell_type": "code",
      "source": [
        "custom_solver = #Enter solver\n",
        "custom_alpha = #Enter alpha\n",
        "custom_hidden_layer_sizes = #Enter hidden_layer_sizes\n",
        "custom_random_state = #Enter random_state\n",
        "multi_layer_perceptron_classifier = MLPClassifier(solver=custom_solver, alpha=custom_alpha, hidden_layer_sizes=custom_hidden_layer_sizes, random_state=custom_random_state)\n",
        "\n",
        "#Fit the data using the same .fit(X,y) function\n",
        "\n",
        "#Predict the classification using the same .predict(X_Test) function \n",
        "\n",
        "#Calculate the percent correct by using the accuracy_score function"
      ],
      "metadata": {
        "id": "-O2PasiVtH88"
      },
      "execution_count": null,
      "outputs": []
    },
    {
      "cell_type": "markdown",
      "source": [
        "Using the given empirical results, explain below which machine learning algorithm would be best suited for prediciting whether a person would survive the titanic"
      ],
      "metadata": {
        "id": "dObwShaityKZ"
      }
    },
    {
      "cell_type": "markdown",
      "source": [
        "(Enter your results here)"
      ],
      "metadata": {
        "id": "rsKc1dcyt_ay"
      }
    },
    {
      "cell_type": "markdown",
      "source": [
        "# Question 3: Regression\n",
        "In addition to classification, XGBoost and Scikit Learn also have regression algorithms. Regression algorithms are implemented when attempting to predict some sort of value such as temperature or a like count for a youtube video. In this section of the lab, you will train these algorithms using the video game sales dataset to predict the sales of a given title. You may have to feature engineer the data using the skills you gained in CS 180 and 280 to effectively predict the sales. You will compare a few different sklearn regression algorithms in this problem, as well as XGBoost regression algorithms."
      ],
      "metadata": {
        "id": "Bykl78pcuP3k"
      }
    },
    {
      "cell_type": "code",
      "source": [
        "#Initialize the XGBRegressor\n",
        "xgboost_regressor = xgb.XGBRegressor()\n",
        "\n",
        "#Fit the data using the .fit(X,y) function\n",
        "\n",
        "#Predict the regression using the .predict(X_Test) function\n",
        "\n",
        "#Calculate the percent correct by using the .score(X,y) function"
      ],
      "metadata": {
        "id": "7LENhy24v6Rd"
      },
      "execution_count": null,
      "outputs": []
    },
    {
      "cell_type": "code",
      "source": [
        "#Initialize the XGBRFRegressor\n",
        "xgboost_rf_regressor = xgb.XGBRFRegressor()\n",
        "\n",
        "#Fit the data using the .fit(X,y) function\n",
        "\n",
        "#Predict the classification using the .predict(X_Test) function\n",
        "\n",
        "#Calculate the percent correct by using the .score(X,y) function"
      ],
      "metadata": {
        "id": "KfOUMIpYwQX4"
      },
      "execution_count": null,
      "outputs": []
    },
    {
      "cell_type": "markdown",
      "source": [
        "Isotonic Regression [Documenation](https://scikit-learn.org/stable/modules/generated/sklearn.isotonic.IsotonicRegression.html#sklearn.isotonic.IsotonicRegression)"
      ],
      "metadata": {
        "id": "MQYlvlIWwf-t"
      }
    },
    {
      "cell_type": "code",
      "source": [
        "#Initialize the Isotonic Regressor\n",
        "isotonic_regression = IsotonicRegression()\n",
        "\n",
        "#Fit the data using the .fit(X,y) function\n",
        "\n",
        "#Predict the classification using the .predict(X_Test) function\n",
        "\n",
        "#Calculate the percent correct by using the .score(X,y) function"
      ],
      "metadata": {
        "id": "8EwNj-uLweZ7"
      },
      "execution_count": null,
      "outputs": []
    },
    {
      "cell_type": "markdown",
      "source": [
        "Linear Regression [Documentation](https://scikit-learn.org/stable/modules/generated/sklearn.linear_model.LinearRegression.html#sklearn.linear_model.LinearRegression)"
      ],
      "metadata": {
        "id": "5Vez2e1Wxsed"
      }
    },
    {
      "cell_type": "code",
      "source": [
        "#Initialize the Linear Regressor\n",
        "linear_regression = LinearRegression()\n",
        "\n",
        "#Fit the data using the .fit(X,y) function\n",
        "\n",
        "#Predict the regression using the .predict(X_Test) function\n",
        "\n",
        "#Calculate the percent correct by using the .score(X,y) function"
      ],
      "metadata": {
        "id": "riT4MeP3xsL_"
      },
      "execution_count": null,
      "outputs": []
    },
    {
      "cell_type": "markdown",
      "source": [
        "ADR Bayseian Regressor [Documentation](https://scikit-learn.org/stable/modules/generated/sklearn.linear_model.ARDRegression.html#sklearn.linear_model.ARDRegression)\n",
        "* With this function do some hyperparameter tuning/a hyperparameter sweep to see which is the best for approximating.\n",
        "* There are too many parameters for this algorithm to write in this lab, so we recommend going to the documentation above to review the potential hyperparameters you can tune."
      ],
      "metadata": {
        "id": "0obYHLBsyOM7"
      }
    },
    {
      "cell_type": "code",
      "source": [
        "#Initialize the Linear Regressor\n",
        "linear_regression = ARDRegression()\n",
        "\n",
        "#Fit the data using the .fit(X,y) function\n",
        "\n",
        "#Predict the classification using the .predict(X_Test) function\n",
        "\n",
        "#Calculate the percent correct by using the .score(X,y) function"
      ],
      "metadata": {
        "id": "ZcfUGVDry3vD"
      },
      "execution_count": null,
      "outputs": []
    },
    {
      "cell_type": "markdown",
      "source": [
        "Using the given empirical results, explain below which machine learning algorithm would be best suited for predicting sale prices for videogames."
      ],
      "metadata": {
        "id": "ZbnVVtHlznLQ"
      }
    },
    {
      "cell_type": "markdown",
      "source": [
        "(Enter your answer here)"
      ],
      "metadata": {
        "id": "gP48aOmfzvKt"
      }
    },
    {
      "cell_type": "markdown",
      "source": [
        "#Question 4: Write Up\n",
        "Do some more additional research on how these algorithms work. We don't go super deep into the machine learning algorithms in this class because there's going to be a new class CS 270, which is an Introduction to Machine Learning, as well as CS 472, which is Machine Learning. Write 1-2 paragraphs explaining what you learned in this lab, as well as something you learned about your additional research that you did."
      ],
      "metadata": {
        "id": "Wy_-dlAw0CXT"
      }
    },
    {
      "cell_type": "markdown",
      "source": [
        "(Enter your answer here)"
      ],
      "metadata": {
        "id": "mS41J4fl0EjJ"
      }
    }
  ]
}